{
 "cells": [
  {
   "cell_type": "markdown",
   "id": "dc86f6c8",
   "metadata": {},
   "source": [
    "## Nubank AE Case - Investment daily return calc\n",
    "\n",
    "**This notebook aims to:**\n",
    "\n",
    "* Create variables with accumulated balance added to the interest and daily return;\n",
    "* Generate the CSV file to write the table [dbo].[raw_investments_daily_returns] in Azure SQL database.\n",
    "\n",
    "The calculation is performed with the view [dbo].[curated_fact_investments_fill_daily_gaps_2020] previously created in the database."
   ]
  },
  {
   "cell_type": "markdown",
   "id": "8fd90606",
   "metadata": {},
   "source": [
    "### Imports"
   ]
  },
  {
   "cell_type": "code",
   "execution_count": 1,
   "id": "0134f62c",
   "metadata": {},
   "outputs": [],
   "source": [
    "from datetime import datetime\n",
    "import pandas as pd\n",
    "from sqlalchemy import create_engine"
   ]
  },
  {
   "cell_type": "markdown",
   "id": "f6d2be4b",
   "metadata": {},
   "source": [
    "### Set database connection"
   ]
  },
  {
   "cell_type": "code",
   "execution_count": 2,
   "id": "9be93a92",
   "metadata": {},
   "outputs": [],
   "source": [
    "server = 'tcp:myserver-marcelogrande.database.windows.net'\n",
    "database = 'MyDatabase'\n",
    "username = 'marcelogrande'\n",
    "password = 'admin_1234'\n",
    "str_con = 'Driver={SQL Server};Server='+server+',1433;Database='+database+';Uid='+username+';Pwd='+password\n",
    "str_con_az = 'mssql+pyodbc:///?odbc_connect={}'.format(str_con)\n",
    "engine_azure = create_engine(str_con_az, echo=True)"
   ]
  },
  {
   "cell_type": "markdown",
   "id": "df54c189",
   "metadata": {},
   "source": [
    "### Read table"
   ]
  },
  {
   "cell_type": "code",
   "execution_count": 3,
   "id": "ef3e6107",
   "metadata": {},
   "outputs": [
    {
     "name": "stdout",
     "output_type": "stream",
     "text": [
      "2022-05-14 18:00:02,331 INFO sqlalchemy.engine.Engine SELECT CAST(SERVERPROPERTY('ProductVersion') AS VARCHAR)\n",
      "2022-05-14 18:00:02,334 INFO sqlalchemy.engine.Engine [raw sql] ()\n",
      "2022-05-14 18:00:02,481 INFO sqlalchemy.engine.Engine SELECT schema_name()\n",
      "2022-05-14 18:00:02,481 INFO sqlalchemy.engine.Engine [generated in 0.00056s] ()\n",
      "2022-05-14 18:00:02,815 INFO sqlalchemy.engine.Engine SELECT CAST('test max support' AS NVARCHAR(max))\n",
      "2022-05-14 18:00:02,816 INFO sqlalchemy.engine.Engine [generated in 0.00048s] ()\n",
      "2022-05-14 18:00:03,127 INFO sqlalchemy.engine.Engine SELECT [INFORMATION_SCHEMA].[TABLES].[TABLE_NAME] \n",
      "FROM [INFORMATION_SCHEMA].[TABLES] \n",
      "WHERE [INFORMATION_SCHEMA].[TABLES].[TABLE_TYPE] = CAST(? AS NVARCHAR(max)) AND [INFORMATION_SCHEMA].[TABLES].[TABLE_NAME] = CAST(? AS NVARCHAR(max)) AND [INFORMATION_SCHEMA].[TABLES].[TABLE_SCHEMA] = CAST(? AS NVARCHAR(max))\n",
      "2022-05-14 18:00:03,127 INFO sqlalchemy.engine.Engine [generated in 0.00058s] ('BASE TABLE', 'select * from dbo.curated_fact_investments_fill_daily_gaps_2020', 'dbo')\n",
      "2022-05-14 18:00:03,586 INFO sqlalchemy.engine.Engine select * from dbo.curated_fact_investments_fill_daily_gaps_2020\n",
      "2022-05-14 18:00:03,587 INFO sqlalchemy.engine.Engine [raw sql] ()\n"
     ]
    }
   ],
   "source": [
    "query = 'select * from dbo.curated_fact_investments_fill_daily_gaps_2020'\n",
    "df = pd.read_sql(query, con=engine_azure)"
   ]
  },
  {
   "cell_type": "markdown",
   "id": "0f3e6e02",
   "metadata": {},
   "source": [
    "### Acumulating daily balance with income  and return daily amount"
   ]
  },
  {
   "cell_type": "code",
   "execution_count": 4,
   "id": "19585329",
   "metadata": {},
   "outputs": [],
   "source": [
    "previous_value = 0\n",
    "\n",
    "for i, row in df.iterrows():\n",
    "    if row['rownumber_account'] == 1 and row['investment_balance_amount'] < 0 :\n",
    "        df.at[i,'run_total_investment_with_return'] = row['investment_balance_amount']\n",
    "        df.at[i,'daily_return'] = 0\n",
    "        previous_value = row['investment_balance_amount']\n",
    "        \n",
    "    elif  row['rownumber_account'] == 1 and row['investment_balance_amount'] >= 0 :\n",
    "        df.at[i,'run_total_investment_with_return'] = row['investment_balance_amount']*(1+row['daily_rate'])\n",
    "        df.at[i,'daily_return'] = row['investment_balance_amount']*row['daily_rate']\n",
    "        previous_value = row['investment_balance_amount']*(1+row['daily_rate'])\n",
    "        \n",
    "    elif row['rownumber_account'] > 1 and (row['investment_balance_amount'] + previous_value) < 0 :\n",
    "        df.at[i,'run_total_investment_with_return'] = row['investment_balance_amount'] + previous_value\n",
    "        df.at[i,'daily_return'] = 0\n",
    "        previous_value = (row['investment_balance_amount'] + previous_value)\n",
    "        \n",
    "    else :\n",
    "        df.at[i,'run_total_investment_with_return'] = (previous_value + row['investment_balance_amount'])*(1+row['daily_rate'])\n",
    "        df.at[i,'daily_return'] = ((previous_value + row['investment_balance_amount'])*row['daily_rate'])\n",
    "        previous_value = ((previous_value + row['investment_balance_amount'])*(1+row['daily_rate']))\n",
    "        \n",
    "df['run_total_investment_with_return'] = df['run_total_investment_with_return'].round(8)\n",
    "df['daily_return'] = df['daily_return'].round(8)  "
   ]
  },
  {
   "cell_type": "markdown",
   "id": "ed11794b",
   "metadata": {},
   "source": [
    "### Create unique key with account_id and action_date"
   ]
  },
  {
   "cell_type": "code",
   "execution_count": 5,
   "id": "4b5610ca",
   "metadata": {},
   "outputs": [],
   "source": [
    "df['key'] = df['account_id']+'-'+df['action_date']"
   ]
  },
  {
   "cell_type": "markdown",
   "id": "7c401d39",
   "metadata": {},
   "source": [
    "### Preview"
   ]
  },
  {
   "cell_type": "code",
   "execution_count": 6,
   "id": "5d29e8a9",
   "metadata": {},
   "outputs": [
    {
     "data": {
      "text/html": [
       "<div>\n",
       "<style scoped>\n",
       "    .dataframe tbody tr th:only-of-type {\n",
       "        vertical-align: middle;\n",
       "    }\n",
       "\n",
       "    .dataframe tbody tr th {\n",
       "        vertical-align: top;\n",
       "    }\n",
       "\n",
       "    .dataframe thead th {\n",
       "        text-align: right;\n",
       "    }\n",
       "</style>\n",
       "<table border=\"1\" class=\"dataframe\">\n",
       "  <thead>\n",
       "    <tr style=\"text-align: right;\">\n",
       "      <th></th>\n",
       "      <th>account_id</th>\n",
       "      <th>action_date</th>\n",
       "      <th>action_month</th>\n",
       "      <th>action_year</th>\n",
       "      <th>action_month_year</th>\n",
       "      <th>daily_rate</th>\n",
       "      <th>investment_in_amount</th>\n",
       "      <th>investment_out_amount</th>\n",
       "      <th>investment_balance_amount</th>\n",
       "      <th>run_total_investment_balance_amount</th>\n",
       "      <th>rownumber_account</th>\n",
       "      <th>flag_movement</th>\n",
       "      <th>run_total_investment_with_return</th>\n",
       "      <th>daily_return</th>\n",
       "      <th>key</th>\n",
       "    </tr>\n",
       "  </thead>\n",
       "  <tbody>\n",
       "    <tr>\n",
       "      <th>0</th>\n",
       "      <td>1000724405779308032</td>\n",
       "      <td>2020-07-14</td>\n",
       "      <td>07</td>\n",
       "      <td>2020</td>\n",
       "      <td>2020-07</td>\n",
       "      <td>0.0001</td>\n",
       "      <td>800.7</td>\n",
       "      <td>0.0</td>\n",
       "      <td>800.7</td>\n",
       "      <td>800.7</td>\n",
       "      <td>1</td>\n",
       "      <td>1</td>\n",
       "      <td>800.780070</td>\n",
       "      <td>0.080070</td>\n",
       "      <td>1000724405779308032-2020-07-14</td>\n",
       "    </tr>\n",
       "    <tr>\n",
       "      <th>1</th>\n",
       "      <td>1000724405779308032</td>\n",
       "      <td>2020-07-15</td>\n",
       "      <td>07</td>\n",
       "      <td>2020</td>\n",
       "      <td>2020-07</td>\n",
       "      <td>0.0001</td>\n",
       "      <td>0.0</td>\n",
       "      <td>0.0</td>\n",
       "      <td>0.0</td>\n",
       "      <td>800.7</td>\n",
       "      <td>2</td>\n",
       "      <td>0</td>\n",
       "      <td>800.860148</td>\n",
       "      <td>0.080078</td>\n",
       "      <td>1000724405779308032-2020-07-15</td>\n",
       "    </tr>\n",
       "    <tr>\n",
       "      <th>2</th>\n",
       "      <td>1000724405779308032</td>\n",
       "      <td>2020-07-16</td>\n",
       "      <td>07</td>\n",
       "      <td>2020</td>\n",
       "      <td>2020-07</td>\n",
       "      <td>0.0001</td>\n",
       "      <td>0.0</td>\n",
       "      <td>0.0</td>\n",
       "      <td>0.0</td>\n",
       "      <td>800.7</td>\n",
       "      <td>3</td>\n",
       "      <td>0</td>\n",
       "      <td>800.940234</td>\n",
       "      <td>0.080086</td>\n",
       "      <td>1000724405779308032-2020-07-16</td>\n",
       "    </tr>\n",
       "    <tr>\n",
       "      <th>3</th>\n",
       "      <td>1000724405779308032</td>\n",
       "      <td>2020-07-17</td>\n",
       "      <td>07</td>\n",
       "      <td>2020</td>\n",
       "      <td>2020-07</td>\n",
       "      <td>0.0001</td>\n",
       "      <td>0.0</td>\n",
       "      <td>0.0</td>\n",
       "      <td>0.0</td>\n",
       "      <td>800.7</td>\n",
       "      <td>4</td>\n",
       "      <td>0</td>\n",
       "      <td>801.020328</td>\n",
       "      <td>0.080094</td>\n",
       "      <td>1000724405779308032-2020-07-17</td>\n",
       "    </tr>\n",
       "    <tr>\n",
       "      <th>4</th>\n",
       "      <td>1000724405779308032</td>\n",
       "      <td>2020-07-18</td>\n",
       "      <td>07</td>\n",
       "      <td>2020</td>\n",
       "      <td>2020-07</td>\n",
       "      <td>0.0001</td>\n",
       "      <td>0.0</td>\n",
       "      <td>0.0</td>\n",
       "      <td>0.0</td>\n",
       "      <td>800.7</td>\n",
       "      <td>5</td>\n",
       "      <td>0</td>\n",
       "      <td>801.100430</td>\n",
       "      <td>0.080102</td>\n",
       "      <td>1000724405779308032-2020-07-18</td>\n",
       "    </tr>\n",
       "  </tbody>\n",
       "</table>\n",
       "</div>"
      ],
      "text/plain": [
       "            account_id action_date action_month action_year action_month_year  \\\n",
       "0  1000724405779308032  2020-07-14           07        2020           2020-07   \n",
       "1  1000724405779308032  2020-07-15           07        2020           2020-07   \n",
       "2  1000724405779308032  2020-07-16           07        2020           2020-07   \n",
       "3  1000724405779308032  2020-07-17           07        2020           2020-07   \n",
       "4  1000724405779308032  2020-07-18           07        2020           2020-07   \n",
       "\n",
       "   daily_rate  investment_in_amount  investment_out_amount  \\\n",
       "0      0.0001                 800.7                    0.0   \n",
       "1      0.0001                   0.0                    0.0   \n",
       "2      0.0001                   0.0                    0.0   \n",
       "3      0.0001                   0.0                    0.0   \n",
       "4      0.0001                   0.0                    0.0   \n",
       "\n",
       "   investment_balance_amount  run_total_investment_balance_amount  \\\n",
       "0                      800.7                                800.7   \n",
       "1                        0.0                                800.7   \n",
       "2                        0.0                                800.7   \n",
       "3                        0.0                                800.7   \n",
       "4                        0.0                                800.7   \n",
       "\n",
       "   rownumber_account  flag_movement  run_total_investment_with_return  \\\n",
       "0                  1              1                        800.780070   \n",
       "1                  2              0                        800.860148   \n",
       "2                  3              0                        800.940234   \n",
       "3                  4              0                        801.020328   \n",
       "4                  5              0                        801.100430   \n",
       "\n",
       "   daily_return                             key  \n",
       "0      0.080070  1000724405779308032-2020-07-14  \n",
       "1      0.080078  1000724405779308032-2020-07-15  \n",
       "2      0.080086  1000724405779308032-2020-07-16  \n",
       "3      0.080094  1000724405779308032-2020-07-17  \n",
       "4      0.080102  1000724405779308032-2020-07-18  "
      ]
     },
     "execution_count": 6,
     "metadata": {},
     "output_type": "execute_result"
    }
   ],
   "source": [
    "df.head()"
   ]
  },
  {
   "cell_type": "markdown",
   "id": "cba25b2b",
   "metadata": {},
   "source": [
    "### Write csv file"
   ]
  },
  {
   "cell_type": "code",
   "execution_count": 7,
   "id": "7668dedd",
   "metadata": {},
   "outputs": [],
   "source": [
    "file_path = \"D:/MyFolder/Nubank/Case/Tables/investments/\"\n",
    "file_name_write = \"investments_returns.csv\"\n",
    "file_path_write = file_path+file_name_write\n",
    "\n",
    "df.to_csv(file_path_write, index=False)"
   ]
  }
 ],
 "metadata": {
  "kernelspec": {
   "display_name": "Python 3 (ipykernel)",
   "language": "python",
   "name": "python3"
  },
  "language_info": {
   "codemirror_mode": {
    "name": "ipython",
    "version": 3
   },
   "file_extension": ".py",
   "mimetype": "text/x-python",
   "name": "python",
   "nbconvert_exporter": "python",
   "pygments_lexer": "ipython3",
   "version": "3.10.4"
  }
 },
 "nbformat": 4,
 "nbformat_minor": 5
}
