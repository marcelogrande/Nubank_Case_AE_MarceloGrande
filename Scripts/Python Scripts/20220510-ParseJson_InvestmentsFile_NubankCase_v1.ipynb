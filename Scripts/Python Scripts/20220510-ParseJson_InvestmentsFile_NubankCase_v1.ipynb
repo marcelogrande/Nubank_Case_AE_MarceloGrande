{
 "cells": [
  {
   "cell_type": "markdown",
   "id": "dc86f6c8",
   "metadata": {},
   "source": [
    "## Nubank AE Case - Parse JSON investment file\n",
    "\n",
    "**This notebook aims to:**\n",
    "\n",
    "* Iterate file rows to parse JSON columns;\n",
    "* Generate the CSV file to write the table [dbo].[raw_investments] in Azure SQL database."
   ]
  },
  {
   "cell_type": "markdown",
   "id": "dea304b7",
   "metadata": {},
   "source": [
    "### Imports"
   ]
  },
  {
   "cell_type": "code",
   "execution_count": 1,
   "id": "0134f62c",
   "metadata": {},
   "outputs": [],
   "source": [
    "import pandas as pd\n",
    "import json"
   ]
  },
  {
   "cell_type": "markdown",
   "id": "cc4bae2c",
   "metadata": {},
   "source": [
    "### Paths and Files name"
   ]
  },
  {
   "cell_type": "code",
   "execution_count": 2,
   "id": "27b7b7fb",
   "metadata": {},
   "outputs": [],
   "source": [
    "file_path = \"D:/MyFolder/Nubank/Case/Tables/investments/\"\n",
    "\n",
    "file_name_read = \"investments_json.txt\"\n",
    "file_path_read = file_path+file_name_read\n",
    "\n",
    "file_name_write = \"investments.csv\"\n",
    "file_path_write = file_path+file_name_write"
   ]
  },
  {
   "cell_type": "markdown",
   "id": "53029b9e",
   "metadata": {},
   "source": [
    "### Parse JSON file"
   ]
  },
  {
   "cell_type": "code",
   "execution_count": 3,
   "id": "78823df6",
   "metadata": {},
   "outputs": [],
   "source": [
    "# Opening JSON file\n",
    "\n",
    "f = open(file_path_read)\n",
    " \n",
    "# returns JSON object as\n",
    "# a dictionary\n",
    "data = json.load(f)\n",
    " \n",
    "##Closing file\n",
    "f.close()\n",
    "\n",
    "d = []\n",
    "\n",
    "for i in data:\n",
    "    for j in i['transactions']:\n",
    "        d.append({\n",
    "            'account_id':i['account_id'],\n",
    "            'transaction_id':j['transaction_id'],\n",
    "            'status':j['status'],\n",
    "            'amount':j['amount'],\n",
    "            'investment_requested_at':j['investment_requested_at'],\n",
    "            'investment_completed_at':j['investment_completed_at'],\n",
    "            'investment_completed_at_timestamp':j['investment_completed_at_timestamp'],\n",
    "            'type':j['type'] \n",
    "        })\n",
    "\n",
    "df = pd.DataFrame(d)"
   ]
  },
  {
   "cell_type": "markdown",
   "id": "c24554c5",
   "metadata": {},
   "source": [
    "### Preview"
   ]
  },
  {
   "cell_type": "code",
   "execution_count": 4,
   "id": "4ad1d8a5",
   "metadata": {},
   "outputs": [
    {
     "data": {
      "text/html": [
       "<div>\n",
       "<style scoped>\n",
       "    .dataframe tbody tr th:only-of-type {\n",
       "        vertical-align: middle;\n",
       "    }\n",
       "\n",
       "    .dataframe tbody tr th {\n",
       "        vertical-align: top;\n",
       "    }\n",
       "\n",
       "    .dataframe thead th {\n",
       "        text-align: right;\n",
       "    }\n",
       "</style>\n",
       "<table border=\"1\" class=\"dataframe\">\n",
       "  <thead>\n",
       "    <tr style=\"text-align: right;\">\n",
       "      <th></th>\n",
       "      <th>account_id</th>\n",
       "      <th>transaction_id</th>\n",
       "      <th>status</th>\n",
       "      <th>amount</th>\n",
       "      <th>investment_requested_at</th>\n",
       "      <th>investment_completed_at</th>\n",
       "      <th>investment_completed_at_timestamp</th>\n",
       "      <th>type</th>\n",
       "    </tr>\n",
       "  </thead>\n",
       "  <tbody>\n",
       "    <tr>\n",
       "      <th>0</th>\n",
       "      <td>623509224135263</td>\n",
       "      <td>832358148869144320</td>\n",
       "      <td>completed</td>\n",
       "      <td>499.66</td>\n",
       "      <td>1600787895</td>\n",
       "      <td>1600787897</td>\n",
       "      <td>2020-09-22T15:18:17.000000000</td>\n",
       "      <td>investment_transfer_in</td>\n",
       "    </tr>\n",
       "    <tr>\n",
       "      <th>1</th>\n",
       "      <td>623509224135263</td>\n",
       "      <td>1329504940934229248</td>\n",
       "      <td>completed</td>\n",
       "      <td>876.47</td>\n",
       "      <td>1591183247</td>\n",
       "      <td>1591183255</td>\n",
       "      <td>2020-06-03T11:20:55.000000000</td>\n",
       "      <td>investment_transfer_in</td>\n",
       "    </tr>\n",
       "    <tr>\n",
       "      <th>2</th>\n",
       "      <td>623509224135263</td>\n",
       "      <td>1819638848337891584</td>\n",
       "      <td>completed</td>\n",
       "      <td>1463.14</td>\n",
       "      <td>1582614975</td>\n",
       "      <td>1582614991</td>\n",
       "      <td>2020-02-25T07:16:31.000000000</td>\n",
       "      <td>investment_transfer_in</td>\n",
       "    </tr>\n",
       "    <tr>\n",
       "      <th>3</th>\n",
       "      <td>623509224135263</td>\n",
       "      <td>2239147940568222976</td>\n",
       "      <td>completed</td>\n",
       "      <td>528.28</td>\n",
       "      <td>1592386421</td>\n",
       "      <td>1592386427</td>\n",
       "      <td>2020-06-17T09:33:47.000000000</td>\n",
       "      <td>investment_transfer_in</td>\n",
       "    </tr>\n",
       "    <tr>\n",
       "      <th>4</th>\n",
       "      <td>623509224135263</td>\n",
       "      <td>1755283541337998080</td>\n",
       "      <td>completed</td>\n",
       "      <td>859.8</td>\n",
       "      <td>1579433811</td>\n",
       "      <td>1579433816</td>\n",
       "      <td>2020-01-19T11:36:56.000000000</td>\n",
       "      <td>investment_transfer_in</td>\n",
       "    </tr>\n",
       "  </tbody>\n",
       "</table>\n",
       "</div>"
      ],
      "text/plain": [
       "        account_id       transaction_id     status   amount  \\\n",
       "0  623509224135263   832358148869144320  completed   499.66   \n",
       "1  623509224135263  1329504940934229248  completed   876.47   \n",
       "2  623509224135263  1819638848337891584  completed  1463.14   \n",
       "3  623509224135263  2239147940568222976  completed   528.28   \n",
       "4  623509224135263  1755283541337998080  completed    859.8   \n",
       "\n",
       "  investment_requested_at investment_completed_at  \\\n",
       "0              1600787895              1600787897   \n",
       "1              1591183247              1591183255   \n",
       "2              1582614975              1582614991   \n",
       "3              1592386421              1592386427   \n",
       "4              1579433811              1579433816   \n",
       "\n",
       "  investment_completed_at_timestamp                    type  \n",
       "0     2020-09-22T15:18:17.000000000  investment_transfer_in  \n",
       "1     2020-06-03T11:20:55.000000000  investment_transfer_in  \n",
       "2     2020-02-25T07:16:31.000000000  investment_transfer_in  \n",
       "3     2020-06-17T09:33:47.000000000  investment_transfer_in  \n",
       "4     2020-01-19T11:36:56.000000000  investment_transfer_in  "
      ]
     },
     "execution_count": 4,
     "metadata": {},
     "output_type": "execute_result"
    }
   ],
   "source": [
    "df.head()"
   ]
  },
  {
   "cell_type": "markdown",
   "id": "fbc2b942",
   "metadata": {},
   "source": [
    "### Write CSV file"
   ]
  },
  {
   "cell_type": "code",
   "execution_count": 5,
   "id": "7668dedd",
   "metadata": {},
   "outputs": [],
   "source": [
    "df.to_csv(file_path_write, index=False)"
   ]
  }
 ],
 "metadata": {
  "kernelspec": {
   "display_name": "Python 3 (ipykernel)",
   "language": "python",
   "name": "python3"
  },
  "language_info": {
   "codemirror_mode": {
    "name": "ipython",
    "version": 3
   },
   "file_extension": ".py",
   "mimetype": "text/x-python",
   "name": "python",
   "nbconvert_exporter": "python",
   "pygments_lexer": "ipython3",
   "version": "3.10.4"
  }
 },
 "nbformat": 4,
 "nbformat_minor": 5
}
